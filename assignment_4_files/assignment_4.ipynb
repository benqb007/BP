{
 "cells": [
  {
   "cell_type": "markdown",
   "id": "71e35ef8",
   "metadata": {},
   "source": [
    "# DTSC-670 Foundations of Machine Learning\n",
    "## Assignment 4\n",
    "### Name: Benjamin Anderson"
   ]
  },
  {
   "cell_type": "markdown",
   "id": "88f7b0ec",
   "metadata": {},
   "source": [
    "## Copyright & Academic Integrity Notice\n",
    "<span style=\"color:red\">The assignment materials provided are exclusively for students officially enrolled in the course and are intended solely for purposes associated with the course. It is strictly prohibited to distribute these materials to others. Students are expressly forbidden from uploading these documents, parts of this assignment, or solutions to any external platforms such as websites, GitHub repositories, or personal websites.</span>\n",
    "\n",
    "<span style=\"color:red\">By submitting your document to CodeGrade, you are acknowledging that you fully understand the Academic Integrity policy as outlined in both the Program Handbook and the course syllabus. All submitted work must be solely your own, and any form of collaboration is strictly prohibited. You must not seek solutions online or submit them to any external websites. At the end of the term, plagiarism tracking software will be used for this assignment. Violations of the Academic Integrity policy will result in failure on the assignment, failure in the class, and/or dismissal from the program.</span> "
   ]
  },
  {
   "cell_type": "markdown",
   "id": "1a10ec61",
   "metadata": {},
   "source": [
    "## Student Learning Objectives\n",
    "\n",
    "- Understand the evaluation metrics employed for assessing prediction performance in classification systems.\n",
    "- Develop custom functions for calculating these metrics and compare them to Scikit-Learn's results.\n",
    "- Students should be able to proficiently reuse functions to obtain variables to create a ROC curve."
   ]
  },
  {
   "cell_type": "markdown",
   "id": "b72009cf",
   "metadata": {},
   "source": [
    "## CodeGrade\n",
    "This assignment will be automatically graded through CodeGrade, and you will have unlimited submission attempts. To ensure successful grading, please follow these instructions carefully: Name your notebook as `assignment_4.ipynb` before submission, as CodeGrade requires this specific filename for grading purposes. Additionally, make sure there are no errors in your notebook, as CodeGrade will not be able to grade it if errors are present. Before submitting, we highly recommend restarting your kernel and running all cells again to ensure that there will be no errors when CodeGrade runs your script."
   ]
  },
  {
   "cell_type": "markdown",
   "id": "a711a190",
   "metadata": {},
   "source": [
    "## Assignment Overview\n",
    "The purpose of this assignment is to familiarize you with the metrics used to measure prediction performance in classification systems.  You will be tasked with developing custom Python functions to compute these metrics and subsequently, comparing the outcomes with Scikit-Learn's pre-existing implementations.  Creating these custom functions will allow you to better understand the metrics and how they are computed.\n",
    "\n",
    "### Data\n",
    "The data for this assignment comes from two separate files:\n",
    "- `true_labels.csv` : these are the `y_test` labels from the census income dataset in the previous assignment\n",
    "- `predicted_proba.csv` : these are the predicted probabilities ([predict_proba()](https://scikit-learn.org/stable/modules/generated/sklearn.linear_model.LogisticRegression.html#sklearn.linear_model.LogisticRegression.predict_proba) in sklearn) of our final predictions in the previous assignment\n",
    "\n",
    "### Assignment Instructions\n",
    "Walk through the assignment and create the custom functions as requested.  It is very important that all written functions have the function parameters in the same order as given to you in the respective instructions.  \n",
    "\n",
    "Do not use the built-in Scikit-Learn functions when creating your functions from scratch.  Instead, you may use those functions after to verify your calculations.  Your assignments will be checked and points will be manually taken off if you use Scikit-Learn functions in your created functions.\n",
    "\n",
    "<u style=\"color:red;\">**Important: Do not round any of your outputs unless directed to do so or CodeGrade will count them as incorrect**</u>\n",
    "\n",
    "Once you have completed all the tasks, you are ready to submit your assignment to CodeGrade for testing. Please restart your notebook's kernel and run your code from the beginning to ensure there are no error messages. Once you have verified that the code runs without any issues, submit your .ipynb notebook file to CodeGrade for evaluation. Your notebook should be called `assignment_4.ipynb`. You have unlimited attempts for this assignment. "
   ]
  },
  {
   "cell_type": "markdown",
   "id": "953f1bb9",
   "metadata": {},
   "source": [
    "## Standard Imports<a name=\"import\"></a>\n",
    "Run the code block below to import your standard imports and setup the notebook for CodeGrade grading."
   ]
  },
  {
   "cell_type": "code",
   "execution_count": 33,
   "id": "e0a81e16",
   "metadata": {
    "code_folding": []
   },
   "outputs": [],
   "source": [
    "# standard imports\n",
    "import pandas as pd\n",
    "import numpy as np\n",
    "\n",
    "# imports\n",
    "from sklearn.metrics import accuracy_score\n",
    "import sklearn.metrics as metrics\n",
    "from sklearn.metrics import precision_score, recall_score\n",
    "from sklearn.metrics import f1_score\n",
    "import matplotlib.pyplot as plt\n",
    "\n",
    "# Do not change this option; This allows the CodeGrade auto grading to function correctly\n",
    "pd.set_option('display.max_columns', 20)"
   ]
  },
  {
   "cell_type": "markdown",
   "id": "6cfb9558",
   "metadata": {},
   "source": [
    "## Get the Data\n",
    "Execute the following code snippet to import the data required for this assignment. Ensure that the CSV files are located in the same directory as your notebook.  We will import these as Python lists since students might find it more convenient to work with lists when creating their functions from scratch."
   ]
  },
  {
   "cell_type": "code",
   "execution_count": 34,
   "id": "516f9b5c",
   "metadata": {},
   "outputs": [],
   "source": [
    "# import the true lables\n",
    "true_labels = pd.read_csv('true_labels.csv')\n",
    "\n",
    "# import the predicted probabilities as a list\n",
    "probs = pd.read_csv('predicted_proba.csv').values.flatten().tolist()\n",
    "\n",
    "# turn the true labels into an array of 0s and 1s\n",
    "# check Scikit-Learn's documentation for information on LabelEncoder()\n",
    "from sklearn import preprocessing\n",
    "\n",
    "le = preprocessing.LabelEncoder()\n",
    "true_labels = le.fit_transform(true_labels.values.ravel()).tolist()"
   ]
  },
  {
   "cell_type": "markdown",
   "id": "b7ffa9c6",
   "metadata": {},
   "source": [
    "# Calculate Model Predictions\n",
    "\n",
    "Begin by writing a function from scratch called `predict()` that accepts as input the following (in this exact order):\n",
    "- a list of prediction probabilities (as a list) \n",
    "- threshold value (as a float)\n",
    "\n",
    "This function should compute the final predictions to be output by the model and return them as a list.  If a prediction probability value is less than the threshold value, then the prediction is the negative case (i.e. 0).  If a prediction probability value is greater than or equal to the threshold value, then the prediction is the positive case (i.e. 1)."
   ]
  },
  {
   "cell_type": "code",
   "execution_count": 35,
   "id": "85caa082",
   "metadata": {},
   "outputs": [],
   "source": [
    "def predict(probs, threshold):\n",
    "    return [1 if prob >= threshold else 0 for prob in probs]\n"
   ]
  },
  {
   "cell_type": "markdown",
   "id": "ef71875e",
   "metadata": {},
   "source": [
    "Next, we will create a variable called `thresh` that has the value 0.5 which is the threshold value that we will use to make our predictions.  Then invoke the `predict()` function to calculate the model predictions using the `probs` list that you imported earlier and the `thresh` variable.  Save this output as `preds`."
   ]
  },
  {
   "cell_type": "code",
   "execution_count": 36,
   "id": "750d72d2",
   "metadata": {},
   "outputs": [],
   "source": [
    "# threshold value\n",
    "thresh = 0.5\n",
    "\n",
    "# prediction values\n",
    "preds = predict(probs, thresh)\n",
    "\n"
   ]
  },
  {
   "cell_type": "markdown",
   "id": "75bec9b2",
   "metadata": {},
   "source": [
    "# Calculate the Model Accuracy\n",
    "\n",
    "Write a function from scratch called `acc_score()` that accepts as input (in this exact order):\n",
    "- a list of true labels\n",
    "- a list of model predictions\n",
    "\n",
    "This function should calculate the model accuracy score using the true labels as compared to the predictions.  "
   ]
  },
  {
   "cell_type": "code",
   "execution_count": 37,
   "id": "d5136495",
   "metadata": {},
   "outputs": [],
   "source": [
    "def acc_score(true_labels, predictions):\n",
    " \n",
    "    correct = sum(t == p for t, p in zip(true_labels, predictions))\n",
    "    total = len(true_labels)\n",
    "    accuracy = correct / total\n",
    "    return accuracy\n",
    "\n",
    "\n"
   ]
  },
  {
   "cell_type": "markdown",
   "id": "e694af93",
   "metadata": {},
   "source": [
    "Now, compute the accuracy score using your function `acc_score`, and pass as input the true labels (`true_labels` imported earlier) and the model predictions you calculated above (`preds`).  Save this as the variable `accuracy`.  "
   ]
  },
  {
   "cell_type": "code",
   "execution_count": 38,
   "id": "96bb3ec4",
   "metadata": {},
   "outputs": [
    {
     "name": "stdout",
     "output_type": "stream",
     "text": [
      "Model Accuracy:  0.8466144633809305\n"
     ]
    }
   ],
   "source": [
    "# Computing the accuracy score using the acc_score function\n",
    "accuracy = acc_score(true_labels, preds)\n",
    "\n",
    "\n",
    "print(\"Model Accuracy: \", accuracy)"
   ]
  },
  {
   "cell_type": "markdown",
   "id": "cf7d696f",
   "metadata": {},
   "source": [
    "**Code Check:** Use the Scikit-Learn's [accuracy_score()](https://scikit-learn.org/stable/modules/generated/sklearn.metrics.accuracy_score.html) function to check that the value you computed using `acc_score()` is correct."
   ]
  },
  {
   "cell_type": "code",
   "execution_count": 39,
   "id": "d754a967",
   "metadata": {},
   "outputs": [
    {
     "data": {
      "text/plain": [
       "0.8466144633809305"
      ]
     },
     "execution_count": 39,
     "metadata": {},
     "output_type": "execute_result"
    }
   ],
   "source": [
    "from sklearn.metrics import accuracy_score\n",
    "\n",
    "# Checking the accuracy using sklearn's accuracy_score function\n",
    "sklearn_accuracy = accuracy_score(true_labels, preds)\n",
    "sklearn_accuracy\n"
   ]
  },
  {
   "cell_type": "markdown",
   "id": "414a1151",
   "metadata": {},
   "source": [
    "# Calculate the Model Error Rate\n",
    "\n",
    "Write a function from scratch called `error_rate()` that accepts as input (in this exact order):\n",
    "- a list of true labels\n",
    "- a list of model predictions\n",
    "\n",
    "This function should calculate the model error rate and should use your `acc_score()` function that you previously defined. "
   ]
  },
  {
   "cell_type": "code",
   "execution_count": 40,
   "id": "3d987497",
   "metadata": {},
   "outputs": [],
   "source": [
    "def error_rate(true_labels, predictions):\n",
    "    accuracy = acc_score(true_labels, predictions)\n",
    "    return 1 - accuracy\n"
   ]
  },
  {
   "cell_type": "markdown",
   "id": "9eb7a93a",
   "metadata": {},
   "source": [
    "Now, compute the model error rate for the true labels and the model predictions previously given.  Save this as the variable `error`."
   ]
  },
  {
   "cell_type": "code",
   "execution_count": 41,
   "id": "4a495038",
   "metadata": {},
   "outputs": [
    {
     "name": "stdout",
     "output_type": "stream",
     "text": [
      "Model Error Rate:  0.1533855366190695\n"
     ]
    }
   ],
   "source": [
    "error = error_rate(true_labels, preds)\n",
    "\n",
    "print(\"Model Error Rate: \", error)"
   ]
  },
  {
   "cell_type": "markdown",
   "id": "1e207ec5",
   "metadata": {},
   "source": [
    "# Calculate the Model Precision and Recall\n",
    "\n",
    "Write a function from scratch called `prec_recall_score()` that accepts as input (in this exact order):\n",
    "- a list of true labels \n",
    "- a list of model predictions\n",
    "\n",
    "This function should compute and return _both_ the model precision and recall (in that order).  \n",
    "\n",
    "Do not use the built-in Scikit-Learn functions `precision_score()`,`recall_score()`, `confusion_matrix()`, or Panda's `crosstab()` to do this.  Instead, you may use those functions after to verify your calculations. We want to ensure that you understand what is going on behind-the-scenes of the precision and recall functions by creating similar ones from scratch.  "
   ]
  },
  {
   "cell_type": "code",
   "execution_count": 42,
   "id": "252cd80d",
   "metadata": {},
   "outputs": [],
   "source": [
    "def prec_recall_score(true_labels, predictions):\n",
    "    TP = sum(t == 1 and p == 1 for t, p in zip(true_labels, predictions))\n",
    "    FP = sum(t == 0 and p == 1 for t, p in zip(true_labels, predictions))\n",
    "    FN = sum(t == 1 and p == 0 for t, p in zip(true_labels, predictions))\n",
    "\n",
    "    precision = TP / (TP + FP) if TP + FP != 0 else 0\n",
    "    recall = TP / (TP + FN) if TP + FN != 0 else 0\n",
    "\n",
    "    return precision, recall\n"
   ]
  },
  {
   "cell_type": "markdown",
   "id": "81dc437f",
   "metadata": {},
   "source": [
    "Use your `prec_recall_score` function to compute `precision` and `recall` for the true labels (`true_labels`) and the model predictions (`preds`) you calculated previously.  Save your output as `precision` and `recall` respectively."
   ]
  },
  {
   "cell_type": "code",
   "execution_count": 43,
   "id": "39181c5d",
   "metadata": {},
   "outputs": [
    {
     "name": "stdout",
     "output_type": "stream",
     "text": [
      "Precision =  0.7162379421221865\n",
      "Recall =  0.5797007156798959\n"
     ]
    }
   ],
   "source": [
    "precision, recall = prec_recall_score(true_labels, preds)\n",
    "print(\"Precision = \", precision)\n",
    "print(\"Recall = \", recall)"
   ]
  },
  {
   "cell_type": "markdown",
   "id": "0534ef06",
   "metadata": {},
   "source": [
    "**Code Check:** Use Scikit-Learn's `precision_score()` and `recall_score()` to verify that your calculations above are correct:"
   ]
  },
  {
   "cell_type": "code",
   "execution_count": 44,
   "id": "d5f804f3",
   "metadata": {},
   "outputs": [
    {
     "data": {
      "text/plain": [
       "0.7162379421221865"
      ]
     },
     "execution_count": 44,
     "metadata": {},
     "output_type": "execute_result"
    }
   ],
   "source": [
    "from sklearn.metrics import precision_score, recall_score\n",
    "\n",
    "sklearn_precision = precision_score(true_labels, preds)\n",
    "sklearn_precision\n"
   ]
  },
  {
   "cell_type": "code",
   "execution_count": 45,
   "id": "e91df6a2",
   "metadata": {},
   "outputs": [
    {
     "data": {
      "text/plain": [
       "0.5797007156798959"
      ]
     },
     "execution_count": 45,
     "metadata": {},
     "output_type": "execute_result"
    }
   ],
   "source": [
    "sklearn_recall = recall_score(true_labels, preds)\n",
    "sklearn_recall"
   ]
  },
  {
   "cell_type": "markdown",
   "id": "20554981",
   "metadata": {},
   "source": [
    "# Calculate $F_\\beta$ Scores\n",
    "\n",
    "Write a function from scratch called `f_beta` that computes the $F_\\beta$ measure for any value of $\\beta$.  \n",
    "\n",
    "- This function must invoke the `prec_recall_score` function you wrote above in order to obtain the values for precision and recall.  \n",
    "- The function must take as input (in this exact order):\n",
    "    - a list of true labels\n",
    "    - a list of model predictions you calculated previously\n",
    "    - the value of $\\beta$ you wish to use in the calculation \n",
    "    \n",
    "We defined $F_\\beta$ in class to be:\n",
    "\n",
    "$$ F_\\beta = \\frac{(\\beta^2+1) \\cdot Pr \\cdot Re}{\\beta^2 \\cdot Pr + Re} $$"
   ]
  },
  {
   "cell_type": "code",
   "execution_count": 46,
   "id": "0ae4b0f2",
   "metadata": {},
   "outputs": [],
   "source": [
    "def f_beta(true_labels, predictions, beta):\n",
    "    # Obtain precision and recall using the prec_recall_score function\n",
    "    precision, recall = prec_recall_score(true_labels, predictions)\n",
    "\n",
    "    # Calc F_beta score\n",
    "    beta_squared = beta ** 2\n",
    "    f_beta_score = ((beta_squared + 1) * precision * recall) / (beta_squared * precision + recall) if (precision + recall) != 0 else 0\n",
    "\n",
    "    return f_beta_score\n"
   ]
  },
  {
   "cell_type": "markdown",
   "id": "172fd028",
   "metadata": {},
   "source": [
    "Now, use your `f_beta` function to compute the $F_1$ score for the true labels and the model predictions you calculated previously.  Save your output as `F1`."
   ]
  },
  {
   "cell_type": "code",
   "execution_count": 47,
   "id": "458eaf89",
   "metadata": {},
   "outputs": [
    {
     "name": "stdout",
     "output_type": "stream",
     "text": [
      "F1 =  0.6407766990291262\n"
     ]
    }
   ],
   "source": [
    "F1 = f_beta(true_labels, preds, 1)\n",
    "\n",
    "\n",
    "print(\"F1 = \", F1)"
   ]
  },
  {
   "cell_type": "markdown",
   "id": "21828485",
   "metadata": {},
   "source": [
    "**Code Check:** Verify your above calculation is correct by invoking Scikit-Learn's `f1_score` function."
   ]
  },
  {
   "cell_type": "code",
   "execution_count": 48,
   "id": "5aef7054",
   "metadata": {},
   "outputs": [
    {
     "data": {
      "text/plain": [
       "0.6407766990291262"
      ]
     },
     "execution_count": 48,
     "metadata": {},
     "output_type": "execute_result"
    }
   ],
   "source": [
    "from sklearn.metrics import f1_score\n",
    "\n",
    "sklearn_F1 = f1_score(true_labels, preds)\n",
    "sklearn_F1\n"
   ]
  },
  {
   "cell_type": "markdown",
   "id": "5f21d23e",
   "metadata": {},
   "source": [
    "# Calculate the TPR and FPR for ROC Curve\n",
    "\n",
    "In the subsequent cells, you will be asked to plot an ROC curve.  The ROC curve plots the True Positive Rate (TPR, also called recall) against the False Positive Rate (FPR).  Both of these are scalar values, akin to precision and recall.\n",
    "\n",
    "Write a function from scratch called `TPR_FPR_score` that is nearly identical to `prec_recall_score` that you wrote previously, which computes and returns TPR and FPR (in that order).  The function must take as input (in this exact order):\n",
    "- a list of true labels \n",
    "- a list of model predictions you calculated previously\n",
    "\n",
    "TPR and FPR are defined as follows:\n",
    "\n",
    "$$ TPR = recall = \\frac{TP}{TP + FN} $$\n",
    "\n",
    "$$ FPR = \\frac{FP}{FP + TN} $$"
   ]
  },
  {
   "cell_type": "code",
   "execution_count": 49,
   "id": "76916930",
   "metadata": {},
   "outputs": [],
   "source": [
    "def TPR_FPR_score(true_labels, predictions):\n",
    "    TP = sum(t == 1 and p == 1 for t, p in zip(true_labels, predictions))\n",
    "    FP = sum(t == 0 and p == 1 for t, p in zip(true_labels, predictions))\n",
    "    FN = sum(t == 1 and p == 0 for t, p in zip(true_labels, predictions))\n",
    "    TN = sum(t == 0 and p == 0 for t, p in zip(true_labels, predictions))\n",
    "\n",
    "    TPR = TP / (TP + FN) if (TP + FN) != 0 else 0  # Same as Recall\n",
    "    FPR = FP / (FP + TN) if (FP + TN) != 0 else 0\n",
    "\n",
    "    return TPR, FPR\n"
   ]
  },
  {
   "cell_type": "markdown",
   "id": "0d4a702e",
   "metadata": {},
   "source": [
    "**Code Check:** Invoke the `TPR_FPR_score` function using your `labels` and `preds` from previous steps.  Your output should be the following:  `(0.5797007156798959, 0.07094051446945338)`"
   ]
  },
  {
   "cell_type": "code",
   "execution_count": 50,
   "id": "1b1630ad",
   "metadata": {},
   "outputs": [
    {
     "data": {
      "text/plain": [
       "(0.5797007156798959, 0.07094051446945338)"
      ]
     },
     "execution_count": 50,
     "metadata": {},
     "output_type": "execute_result"
    }
   ],
   "source": [
    "TPR, FPR = TPR_FPR_score(true_labels, preds)\n",
    "TPR, FPR\n"
   ]
  },
  {
   "cell_type": "markdown",
   "id": "f3d0c3d4",
   "metadata": {},
   "source": [
    "# Compute and Plot the ROC Curve\n",
    "\n",
    "Write a function from scratch called `roc_curve_computer` that accepts (in this exact order):\n",
    "- a list of true labels\n",
    "- a list of prediction probabilities (notice these are probabilities and not predictions - you will need to obtain the predictions from these probabilities using one of your previously created functions)\n",
    "- a list of threshold values.  \n",
    "\n",
    "The function must compute and return the True Positive Rate (TPR, also called recall) and the False Positive Rate (FPR) *for each* threshold value in the threshold value list that is passed to the function. \n",
    "\n",
    "**Important:** Be sure to reuse functions and code segments from your work above! You should reuse two of your above created functions so that you do not duplicate your code.  \n",
    "\n",
    "The function you will write behaves identically to Scikit-Learn's [roc_curve](https://scikit-learn.org/stable/modules/generated/sklearn.metrics.roc_curve.html#sklearn.metrics.roc_curve) function, except that it will take the list of thresholds in as input rather than return them as output.  Your function must calculate one value of TPR and one value of FPR for each of the threshold values in the list.  \n",
    "\n",
    "Your function will output a list of TPR values and a list of FPR values (in that order).  You will then take these TPR and FPR values, and plot them against each other to create the [Receiver Operating Characteristic (ROC) curve](https://scikit-learn.org/stable/auto_examples/model_selection/plot_roc.html).\n",
    "\n",
    "You must not use any built-in library function to perform the calculation of a performance metric.  You may of course use common, built-in Python functions, such as: `range()`, `len()`, et cetera."
   ]
  },
  {
   "cell_type": "code",
   "execution_count": 51,
   "id": "7165d21b",
   "metadata": {},
   "outputs": [],
   "source": [
    "def roc_curve_computer(true_labels, prediction_probs, thresholds):\n",
    "    tpr_values = []\n",
    "    fpr_values = []\n",
    "\n",
    "    for threshold in thresholds:\n",
    "        predictions = predict(prediction_probs, threshold)\n",
    "        TPR, FPR = TPR_FPR_score(true_labels, predictions)\n",
    "        tpr_values.append(TPR)\n",
    "        fpr_values.append(FPR)\n",
    "\n",
    "    return tpr_values, fpr_values\n"
   ]
  },
  {
   "cell_type": "markdown",
   "id": "4ebc8afa",
   "metadata": {},
   "source": [
    "**Code Check:** As an example, calling the `roc_curve_computer` function with the input `true_labels_check = [1, 0, 1, 0, 0]`, `pred_probs_check = [0.875, 0.325, 0.6, 0.09, 0.4]`, and `thresholds_check = [0.00, 0.25, 0.50, 0.75, 1.00]` yields the output:\n",
    "\n",
    "`TPR =  [1.0, 1.0, 1.0, 0.5, 0.0]` and `FPR =  [1.0, 0.6666666666666666, 0.0, 0.0, 0.0]`."
   ]
  },
  {
   "cell_type": "code",
   "execution_count": 52,
   "id": "b0606b43",
   "metadata": {},
   "outputs": [],
   "source": [
    "true_labels_check = [1, 0, 1, 0, 0]\n",
    "pred_probs_check = [0.875, 0.325, 0.6, 0.09, 0.4]\n",
    "thresholds_check = [0.00, 0.25, 0.50, 0.75, 1.00]\n"
   ]
  },
  {
   "cell_type": "markdown",
   "id": "cd50941a",
   "metadata": {},
   "source": [
    "Next, use your `roc_curve_computer` function along with the threshold values `thresholds = [x/100 for x in range(101)]` to compute the TPR and FPR lists for the `true_labels` and `probs` data and save your output as `TPR` and `FPR`."
   ]
  },
  {
   "cell_type": "code",
   "execution_count": 53,
   "id": "868c74bc",
   "metadata": {},
   "outputs": [],
   "source": [
    "thresholds = [x/100 for x in range(101)]\n",
    "TPR, FPR = roc_curve_computer(true_labels, probs, thresholds)"
   ]
  },
  {
   "cell_type": "markdown",
   "id": "7331a85f",
   "metadata": {},
   "source": [
    "Use the following plotting function to plot the ROC curve.  Pass the TPR and FPR values that you calculated above into the plotting function to view the ROC curve."
   ]
  },
  {
   "cell_type": "code",
   "execution_count": 54,
   "id": "e305ae7a",
   "metadata": {},
   "outputs": [
    {
     "data": {
      "image/png": "[encoded data removed]",
      "text/plain": [
       "<Figure size 600x400 with 1 Axes>"
      ]
     },
     "metadata": {},
     "output_type": "display_data"
    }
   ],
   "source": [
    "def plot_roc_curve(tpr, fpr, label=None):\n",
    "    plt.plot(fpr, tpr, linewidth=2, label=label)\n",
    "    plt.plot([0, 1], [0, 1], 'k--') # dashed diagonal line\n",
    "    plt.title('Receiver Operating Characteristic', fontsize=12)\n",
    "    plt.axis([-0.015, 1.0, 0, 1.02])\n",
    "    plt.xlabel('False Positive Rate (Fall-Out)', fontsize=12)\n",
    "    plt.ylabel('True Positive Rate (Recall)', fontsize=12)\n",
    "    plt.grid(True)\n",
    "\n",
    "plt.figure(figsize=(6, 4))\n",
    "plot_roc_curve(TPR, FPR)\n",
    "plt.show()"
   ]
  },
  {
   "cell_type": "markdown",
   "metadata": {},
   "source": [
    "**Code Check:** Next, compare your plot to the plot generated by Scikit-Learn's `roc_curve` function.  Use Scikit-Learn's `roc_curve` function to calculate the false positive rates, the true positive rates, and the thresholds.  Save the output using sklearn's function as `fpr`, `tpr`, and `thresholds`. "
   ]
  },
  {
   "cell_type": "markdown",
   "metadata": {},
   "source": [
    "Pass the false positive rates and the true positive rates obtained above via the Scikit-Learn function as input to the `plot_roc_curve` function in order to compare ROC curves. These two plots should look the same."
   ]
  },
  {
   "cell_type": "code",
   "execution_count": 65,
   "metadata": {},
   "outputs": [
    {
     "data": {
      "image/png": "[encoded data removed]",
      "text/plain": [
       "<Figure size 600x400 with 1 Axes>"
      ]
     },
     "metadata": {},
     "output_type": "display_data"
    }
   ],
   "source": [
    "from sklearn.metrics import roc_curve\n",
    "\n",
    "fpr, tpr, thresholds = roc_curve(true_labels, probs)\n",
    "\n",
    "plt.figure(figsize=(6, 4))\n",
    "plot_roc_curve(tpr, fpr)\n",
    "plt.show()\n"
   ]
  }
 ],
 "metadata": {
  "kernelspec": {
   "display_name": "Python 3",
   "language": "python",
   "name": "python3"
  },
  "language_info": {
   "codemirror_mode": {
    "name": "ipython",
    "version": 3
   },
   "file_extension": ".py",
   "mimetype": "text/x-python",
   "name": "python",
   "nbconvert_exporter": "python",
   "pygments_lexer": "ipython3",
   "version": "3.12.0"
  }
 },
 "nbformat": 4,
 "nbformat_minor": 5
}
